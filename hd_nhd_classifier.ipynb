{
 "cells": [
  {
   "cell_type": "code",
   "execution_count": 1,
   "metadata": {},
   "outputs": [
    {
     "name": "stderr",
     "output_type": "stream",
     "text": [
      "Using TensorFlow backend.\n",
      "C:\\anaconda\\lib\\site-packages\\tensorflow\\python\\framework\\dtypes.py:526: FutureWarning: Passing (type, 1) or '1type' as a synonym of type is deprecated; in a future version of numpy, it will be understood as (type, (1,)) / '(1,)type'.\n",
      "  _np_qint8 = np.dtype([(\"qint8\", np.int8, 1)])\n",
      "C:\\anaconda\\lib\\site-packages\\tensorflow\\python\\framework\\dtypes.py:527: FutureWarning: Passing (type, 1) or '1type' as a synonym of type is deprecated; in a future version of numpy, it will be understood as (type, (1,)) / '(1,)type'.\n",
      "  _np_quint8 = np.dtype([(\"quint8\", np.uint8, 1)])\n",
      "C:\\anaconda\\lib\\site-packages\\tensorflow\\python\\framework\\dtypes.py:528: FutureWarning: Passing (type, 1) or '1type' as a synonym of type is deprecated; in a future version of numpy, it will be understood as (type, (1,)) / '(1,)type'.\n",
      "  _np_qint16 = np.dtype([(\"qint16\", np.int16, 1)])\n",
      "C:\\anaconda\\lib\\site-packages\\tensorflow\\python\\framework\\dtypes.py:529: FutureWarning: Passing (type, 1) or '1type' as a synonym of type is deprecated; in a future version of numpy, it will be understood as (type, (1,)) / '(1,)type'.\n",
      "  _np_quint16 = np.dtype([(\"quint16\", np.uint16, 1)])\n",
      "C:\\anaconda\\lib\\site-packages\\tensorflow\\python\\framework\\dtypes.py:530: FutureWarning: Passing (type, 1) or '1type' as a synonym of type is deprecated; in a future version of numpy, it will be understood as (type, (1,)) / '(1,)type'.\n",
      "  _np_qint32 = np.dtype([(\"qint32\", np.int32, 1)])\n",
      "C:\\anaconda\\lib\\site-packages\\tensorflow\\python\\framework\\dtypes.py:535: FutureWarning: Passing (type, 1) or '1type' as a synonym of type is deprecated; in a future version of numpy, it will be understood as (type, (1,)) / '(1,)type'.\n",
      "  np_resource = np.dtype([(\"resource\", np.ubyte, 1)])\n"
     ]
    }
   ],
   "source": [
    "#importing all the required dependencies\n",
    "import os\n",
    "import shutil\n",
    "import random\n",
    "import matplotlib\n",
    "import numpy as np\n",
    "from PIL import Image\n",
    "from numpy import expand_dims\n",
    "from keras.preprocessing.image import img_to_array, ImageDataGenerator, load_img\n",
    "import matplotlib.pyplot as plt\n",
    "from keras.models import model_from_json\n",
    "from keras.models import Sequential, load_model\n",
    "from keras.layers import Dense, Activation, Conv2D, Flatten, Dropout, MaxPooling2D\n",
    "from keras.callbacks import ModelCheckpoint\n",
    "from keras.applications.inception_v3 import InceptionV3, preprocess_input"
   ]
  },
  {
   "cell_type": "markdown",
   "metadata": {},
   "source": [
    "\n",
    "**importing all the hot dog images from dataset/hd directory**"
   ]
  },
  {
   "cell_type": "code",
   "execution_count": 17,
   "metadata": {},
   "outputs": [],
   "source": [
    "def image_data_loader(path):\n",
    "    image_array_list = []\n",
    "    for image_name in os.listdir(path):\n",
    "        if image_name.split('.')[1] != 'jpg':\n",
    "            continue\n",
    "        else:\n",
    "            image = Image.open(path+'/'+image_name)\n",
    "            image_arr = np.asarray(image)\n",
    "            image_arr_extended = np.expand_dims(image_arr, 0)\n",
    "            image_array_list.append((image_arr_extended, image_name))\n",
    "    return image_array_list"
   ]
  },
  {
   "cell_type": "code",
   "execution_count": 18,
   "metadata": {},
   "outputs": [
    {
     "name": "stdout",
     "output_type": "stream",
     "text": [
      "number of hotdog images available : 410\n",
      "number of not hotdog images available : 4011\n"
     ]
    }
   ],
   "source": [
    "hd_image_array_list = image_data_loader('dataset/hd')\n",
    "print('number of hotdog images available : {}'.format(len(hd_image_array_list)))\n",
    "nhd_image_array_list = image_data_loader('dataset/nhd')\n",
    "print('number of not hotdog images available : {}'.format(len(nhd_image_array_list)))"
   ]
  },
  {
   "cell_type": "markdown",
   "metadata": {},
   "source": [
    "**The dataset is highly imbalanced, the not hot dog images are 10 times of hot dog images.\n",
    "So, we perform data augmentation to hot dog images to increase their number.\n",
    "We rely on different image data augmentation techniques such as horizontal shift, vertical shift, horizontal and vertical flip, rotation, zoom.**"
   ]
  },
  {
   "cell_type": "markdown",
   "metadata": {},
   "source": [
    "**Below is the class which has several methods and each method performs one type of augmentation.\n",
    "All the images after each type of augmentation are stored in hd_augmented directory**"
   ]
  },
  {
   "cell_type": "code",
   "execution_count": 19,
   "metadata": {},
   "outputs": [],
   "source": [
    "class DataAug:\n",
    "    @staticmethod\n",
    "    def horizontal_shifter(image_array_list, variations_per_image):\n",
    "        print('in shifter')\n",
    "        for image_array in image_array_list:\n",
    "            for i in range(variations_per_image):\n",
    "                random_shift_fraction = random.uniform(0.2, 0.5)\n",
    "                shift_array = [-random_shift_fraction,random_shift_fraction]\n",
    "                horizontal_shift_datagen = ImageDataGenerator(width_shift_range=shift_array)\n",
    "                image_iterator = horizontal_shift_datagen.flow(image_array[0], batch_size=1)\n",
    "                image_to_save = Image.fromarray(image_iterator[0][0].astype('uint8'), 'RGB')\n",
    "                image_to_save = image_to_save.resize((300, 300))\n",
    "                image_to_save.save('hd_augmented/'+'horizontal_shift'+str(i)+'_'+image_array[1])\n",
    "    @staticmethod\n",
    "    def vertical_shifter(image_array_list, variations_per_image):\n",
    "        for image_array in image_array_list:\n",
    "            for i in range(variations_per_image):\n",
    "                random_shift_fraction = random.uniform(0.2, 0.5)\n",
    "                vertical_shift_datagen = ImageDataGenerator(height_shift_range=0.5)\n",
    "                image_iterator = vertical_shift_datagen.flow(image_array[0], batch_size=1)\n",
    "                image_to_save = Image.fromarray(image_iterator[0][0].astype('uint8'), 'RGB')\n",
    "                image_to_save = image_to_save.resize((300, 300))\n",
    "                image_to_save.save('hd_augmented/'+'vertical_shift'+str(i)+'_'+image_array[1])\n",
    "    @staticmethod\n",
    "    def horizontal_flipper(image_array_list, variations_per_image):\n",
    "        for image_array in image_array_list:\n",
    "            for i in range(variations_per_image):\n",
    "                horizontal_flip_datagen = ImageDataGenerator(horizontal_flip=True)\n",
    "                image_iterator = horizontal_flip_datagen.flow(image_array[0], batch_size=1)\n",
    "                image_to_save = Image.fromarray(image_iterator[0][0].astype('uint8'), 'RGB')\n",
    "                image_to_save = image_to_save.resize((300, 300))\n",
    "                image_to_save.save('hd_augmented/'+'horizontal_flip'+str(i)+'_'+image_array[1])\n",
    "    @staticmethod\n",
    "    def vertical_flipper(image_array_list, variations_per_image):\n",
    "        for image_array in image_array_list:\n",
    "            for i in range(variations_per_image):\n",
    "                vertical_flip_datagen = ImageDataGenerator(vertical_flip=True)\n",
    "                image_iterator = vertical_flip_datagen.flow(image_array[0], batch_size=1)\n",
    "                image_to_save = Image.fromarray(image_iterator[0][0].astype('uint8'), 'RGB')\n",
    "                image_to_save = image_to_save.resize((300, 300))\n",
    "                image_to_save.save('hd_augmented/'+'vertical_flip'+str(i)+'_'+image_array[1])\n",
    "    @staticmethod\n",
    "    def image_rotator(image_array_list, variations_per_image, angles_list):\n",
    "        for image_array in image_array_list:\n",
    "            for i in range(variations_per_image):\n",
    "                for angle in angles_list:\n",
    "                    rotation_datagen = ImageDataGenerator(rotation_range=angle)\n",
    "                    image_iterator = rotation_datagen.flow(image_array[0], batch_size=1)\n",
    "                    image_to_save = Image.fromarray(image_iterator[0][0].astype('uint8'), 'RGB')\n",
    "                    image_to_save = image_to_save.resize((300, 300))\n",
    "                    image_to_save.save('hd_augmented/'+'rot'+str(i)+str(angle)+'_'+image_array[1])\n",
    "    @staticmethod\n",
    "    def image_zoomer(image_array_list, variations_per_image, zoom_list):\n",
    "        for image_array in image_array_list:\n",
    "            for i in range(variations_per_image):\n",
    "                for zoom_val in zoom_list:\n",
    "                    zoom_datagen = ImageDataGenerator(zoom_range=zoom_list)\n",
    "                    image_iterator = zoom_datagen.flow(image_array[0], batch_size=1)\n",
    "                    image_to_save = Image.fromarray(image_iterator[0][0].astype('uint8'), 'RGB')\n",
    "                    image_to_save = image_to_save.resize((300, 300))\n",
    "                    image_to_save.save('hd_augmented/'+'zoom'+str(i)+str(zoom_val)+'_'+image_array[1])\n",
    "    "
   ]
  },
  {
   "cell_type": "code",
   "execution_count": 20,
   "metadata": {},
   "outputs": [
    {
     "name": "stdout",
     "output_type": "stream",
     "text": [
      "in shifter\n"
     ]
    }
   ],
   "source": [
    "dataaug = DataAug()\n",
    "dataaug.horizontal_shifter(hd_image_array_list, 2)"
   ]
  },
  {
   "cell_type": "code",
   "execution_count": 21,
   "metadata": {},
   "outputs": [],
   "source": [
    "dataaug.vertical_shifter(hd_image_array_list, 2)"
   ]
  },
  {
   "cell_type": "code",
   "execution_count": 22,
   "metadata": {},
   "outputs": [],
   "source": [
    "dataaug.horizontal_flipper(hd_image_array_list, 1)"
   ]
  },
  {
   "cell_type": "code",
   "execution_count": 23,
   "metadata": {},
   "outputs": [],
   "source": [
    "dataaug.vertical_flipper(hd_image_array_list, 1)"
   ]
  },
  {
   "cell_type": "code",
   "execution_count": 24,
   "metadata": {},
   "outputs": [],
   "source": [
    "dataaug.image_rotator(hd_image_array_list, 1, [60, 135])"
   ]
  },
  {
   "cell_type": "code",
   "execution_count": 25,
   "metadata": {},
   "outputs": [],
   "source": [
    "dataaug.image_zoomer(hd_image_array_list, 1,[0.6, 1.5])"
   ]
  },
  {
   "cell_type": "code",
   "execution_count": 27,
   "metadata": {},
   "outputs": [],
   "source": [
    "#also, resizing the original images in dataset/hd diretory to (300, 300)\n",
    "# and saving them in hg_augmented directory\n",
    "for image_name in os.listdir('dataset/hd'):\n",
    "    if image_name.split('.')[-1] != 'jpg':\n",
    "        continue\n",
    "    else:\n",
    "        image = Image.open('dataset/hd/'+image_name)\n",
    "        image_resized = image.resize((300, 300))\n",
    "        image_resized.save('hd_augmented/'+image_name)"
   ]
  },
  {
   "cell_type": "code",
   "execution_count": 29,
   "metadata": {},
   "outputs": [
    {
     "name": "stdout",
     "output_type": "stream",
     "text": [
      "number of augmented hot dog images = 4510\n"
     ]
    }
   ],
   "source": [
    "print('number of augmented hot dog images = {}'.format(len(os.listdir('hd_augmented'))))"
   ]
  },
  {
   "cell_type": "markdown",
   "metadata": {},
   "source": [
    "**We've successfully brought the image dataset of hot dog images to 4510, which is balanced with the number of not hot dog images.\n",
    "Now the dataset is approximately balanced and we can proceed with building the model**"
   ]
  },
  {
   "cell_type": "markdown",
   "metadata": {},
   "source": [
    "**Splitting the data into train and test sets with a 0.8 ratio.\n",
    "Also, we are organizing the train and test data in a final_dataset directory for better organization\n",
    "Here is the structure of the directory:**\n",
    "\n",
    "final_dataset\n",
    "\n",
    "    --train\n",
    "        --hd\n",
    "        --nhd\n",
    "    --test\n",
    "        --hd\n",
    "        --nhd"
   ]
  },
  {
   "cell_type": "code",
   "execution_count": 30,
   "metadata": {},
   "outputs": [],
   "source": [
    "split = 0.8"
   ]
  },
  {
   "cell_type": "code",
   "execution_count": 31,
   "metadata": {},
   "outputs": [
    {
     "name": "stdout",
     "output_type": "stream",
     "text": [
      "number of train hotdog images: 3608 \n",
      "number of test hotdog images: 902\n"
     ]
    }
   ],
   "source": [
    "hd_im_list = os.listdir('hd_augmented')\n",
    "train_hd_im_list = random.sample(hd_im_list, int(split*len(hd_im_list)))\n",
    "print('number of train hotdog images: {} \\nnumber of test hotdog images: {}'\n",
    "         .format(len(train_hd_im_list), (len(hd_im_list)-len(train_hd_im_list))))"
   ]
  },
  {
   "cell_type": "code",
   "execution_count": null,
   "metadata": {},
   "outputs": [],
   "source": [
    "for image_name in hd_im_list:\n",
    "    if image_name in train_hd_im_list:\n",
    "        shutil.copyfile('hd_augmented/'+image_name, 'final_dataset/train/hd/'+image_name)\n",
    "    else:\n",
    "        shutil.copyfile('hd_augmented/'+image_name, 'final_dataset/test/hd/'+image_name)"
   ]
  },
  {
   "cell_type": "code",
   "execution_count": 35,
   "metadata": {},
   "outputs": [
    {
     "name": "stdout",
     "output_type": "stream",
     "text": [
      "3608\n"
     ]
    }
   ],
   "source": [
    "print(len(os.listdir('final_dataset/train/hd/')))"
   ]
  },
  {
   "cell_type": "code",
   "execution_count": 36,
   "metadata": {},
   "outputs": [
    {
     "name": "stdout",
     "output_type": "stream",
     "text": [
      "number of train not hotdog images: 3208 \n",
      "number of test not hotdog images: 803\n"
     ]
    }
   ],
   "source": [
    "nhd_im_list = os.listdir('dataset/nhd')\n",
    "train_nhd_im_list = random.sample(nhd_im_list, int(split*len(nhd_im_list)))\n",
    "print('number of train not hotdog images: {} \\nnumber of test not hotdog images: {}'\n",
    "         .format(len(train_nhd_im_list), (len(nhd_im_list)-len(train_nhd_im_list))))"
   ]
  },
  {
   "cell_type": "code",
   "execution_count": 37,
   "metadata": {},
   "outputs": [],
   "source": [
    "for image_name in nhd_im_list:\n",
    "    if image_name in train_nhd_im_list:\n",
    "        shutil.copyfile('dataset/nhd/'+image_name, 'final_dataset/train/nhd/'+image_name)\n",
    "    else:\n",
    "        shutil.copyfile('dataset/nhd/'+image_name, 'final_dataset/test/nhd/'+image_name)"
   ]
  },
  {
   "cell_type": "code",
   "execution_count": 39,
   "metadata": {},
   "outputs": [
    {
     "name": "stdout",
     "output_type": "stream",
     "text": [
      "803\n"
     ]
    }
   ],
   "source": [
    "print(len(os.listdir('final_dataset/test/nhd/')))"
   ]
  },
  {
   "cell_type": "markdown",
   "metadata": {},
   "source": [
    "**Using Keras ImageDataGenerator class, we are creating image data iterators**"
   ]
  },
  {
   "cell_type": "code",
   "execution_count": 40,
   "metadata": {},
   "outputs": [],
   "source": [
    "datagen = ImageDataGenerator(rescale=1. / 255)"
   ]
  },
  {
   "cell_type": "code",
   "execution_count": 41,
   "metadata": {},
   "outputs": [
    {
     "name": "stdout",
     "output_type": "stream",
     "text": [
      "Found 6816 images belonging to 2 classes.\n",
      "Found 1705 images belonging to 2 classes.\n"
     ]
    }
   ],
   "source": [
    "train_iterator = datagen.flow_from_directory('final_dataset/train', batch_size=32, \n",
    "                                             target_size=(300, 300),class_mode='binary', shuffle=False)\n",
    "test_iterator = datagen.flow_from_directory('final_dataset/test', batch_size=32, \n",
    "                                            target_size=(300, 300),class_mode='binary', shuffle=False)"
   ]
  },
  {
   "cell_type": "code",
   "execution_count": 42,
   "metadata": {},
   "outputs": [
    {
     "data": {
      "text/plain": [
       "{'hd': 0, 'nhd': 1}"
      ]
     },
     "execution_count": 42,
     "metadata": {},
     "output_type": "execute_result"
    }
   ],
   "source": [
    "train_iterator.class_indices"
   ]
  },
  {
   "cell_type": "code",
   "execution_count": 43,
   "metadata": {},
   "outputs": [],
   "source": [
    "train_steps = train_iterator.n // train_iterator.batch_size\n",
    "test_steps = test_iterator.n // test_iterator.batch_size"
   ]
  },
  {
   "cell_type": "markdown",
   "metadata": {},
   "source": [
    "**Using transfer learning, extracting image features(convoluted and pooled features) from InceptionV3 CNN network.** "
   ]
  },
  {
   "cell_type": "code",
   "execution_count": 44,
   "metadata": {},
   "outputs": [],
   "source": [
    "model = InceptionV3(weights='imagenet', include_top=False, input_shape=(300, 300, 3))"
   ]
  },
  {
   "cell_type": "markdown",
   "metadata": {},
   "source": [
    "**Extracting the features and saving them for further use**"
   ]
  },
  {
   "cell_type": "code",
   "execution_count": 45,
   "metadata": {},
   "outputs": [
    {
     "name": "stdout",
     "output_type": "stream",
     "text": [
      "213/213 [==============================] - 794s 4s/step\n",
      "(6816, 8, 8, 2048)\n"
     ]
    }
   ],
   "source": [
    "pre_trained_train_features = model.predict_generator(train_iterator, train_steps, verbose=1)\n",
    "print(pre_trained_train_features.shape)\n",
    "np.savez('pre_trained_train_features', features=pre_trained_train_features)"
   ]
  },
  {
   "cell_type": "code",
   "execution_count": 46,
   "metadata": {},
   "outputs": [
    {
     "data": {
      "text/plain": [
       "4510"
      ]
     },
     "execution_count": 46,
     "metadata": {},
     "output_type": "execute_result"
    }
   ],
   "source": [
    "len(os.listdir('hd_augmented'))"
   ]
  },
  {
   "cell_type": "code",
   "execution_count": 47,
   "metadata": {},
   "outputs": [
    {
     "name": "stdout",
     "output_type": "stream",
     "text": [
      "53/53 [==============================] - 194s 4s/step\n",
      "(1696, 8, 8, 2048)\n"
     ]
    }
   ],
   "source": [
    "pre_trained_test_features = model.predict_generator(test_iterator, test_steps, verbose=1)\n",
    "print(pre_trained_test_features.shape)\n",
    "np.savez('pre_trained_test_features', features=pre_trained_test_features)"
   ]
  },
  {
   "cell_type": "code",
   "execution_count": 48,
   "metadata": {},
   "outputs": [],
   "source": [
    "if os.path.exists('pre_trained_train_features.npz'):\n",
    "    train_data = np.load('pre_trained_train_features.npz')['features']\n",
    "else:\n",
    "    train_data = pre_trained_train_features\n",
    "if os.path.exists('pre_trained_test_features.npz'):\n",
    "    test_data = np.load('pre_trained_test_features.npz')['features']\n",
    "else:\n",
    "    test_data = pre_trained_test_features"
   ]
  },
  {
   "cell_type": "code",
   "execution_count": 26,
   "metadata": {},
   "outputs": [
    {
     "data": {
      "text/plain": [
       "True"
      ]
     },
     "execution_count": 26,
     "metadata": {},
     "output_type": "execute_result"
    }
   ],
   "source": [
    "os.path.exists('pre_trained_test_features.npz')"
   ]
  },
  {
   "cell_type": "code",
   "execution_count": 51,
   "metadata": {},
   "outputs": [
    {
     "data": {
      "text/plain": [
       "((6816, 8, 8, 2048), (6816,))"
      ]
     },
     "execution_count": 51,
     "metadata": {},
     "output_type": "execute_result"
    }
   ],
   "source": [
    "train_data.shape, train_labels.shape"
   ]
  },
  {
   "cell_type": "markdown",
   "metadata": {},
   "source": [
    "**Creating the label vectors for train and test data**"
   ]
  },
  {
   "cell_type": "code",
   "execution_count": 50,
   "metadata": {},
   "outputs": [],
   "source": [
    "# number of train examples = 6816, so an array of labels of that size is create\n",
    "train_labels = np.array([0] * 3608 + [1] * 3208)\n",
    "# number of test examples = 1705, so witha batch size of 32, we get 1696 examples(last 9 are ignored) with 53 examples per batch\n",
    "test_labels = np.array([0] * 902 + [1] * 794)"
   ]
  },
  {
   "cell_type": "markdown",
   "metadata": {},
   "source": [
    "**Defining and building a custom CNN model.\n",
    "This model is trained on the pre computed image features from InceptionV3 model.**"
   ]
  },
  {
   "cell_type": "code",
   "execution_count": 52,
   "metadata": {},
   "outputs": [
    {
     "name": "stdout",
     "output_type": "stream",
     "text": [
      "WARNING:tensorflow:Large dropout rate: 0.6 (>0.5). In TensorFlow 2.x, dropout() uses dropout rate instead of keep_prob. Please ensure that this is intended.\n"
     ]
    }
   ],
   "source": [
    "model = Sequential()\n",
    "model.add(Conv2D(32, (3, 3), activation='relu', input_shape=train_data.shape[1:], padding='same'))\n",
    "model.add(Conv2D(32, (3, 3), activation='relu', padding='same'))\n",
    "model.add(MaxPooling2D(pool_size=(3, 3)))\n",
    "model.add(Dropout(0.2))\n",
    "model.add(Conv2D(64, (3, 3), activation='relu', padding='same'))\n",
    "model.add(Conv2D(64, (3, 3), activation='relu', padding='same'))\n",
    "model.add(MaxPooling2D(pool_size=(2, 2)))\n",
    "model.add(Dropout(0.5))\n",
    "model.add(Flatten())\n",
    "model.add(Dense(512, activation='relu'))\n",
    "model.add(Dropout(0.6))\n",
    "model.add(Dense(256, activation='relu'))\n",
    "model.add(Dropout(0.5))\n",
    "model.add(Dense(1, activation='sigmoid'))"
   ]
  },
  {
   "cell_type": "markdown",
   "metadata": {},
   "source": [
    "**Creating a model checkpoint so that the model weights are to be saved when the validation loss is lowest**"
   ]
  },
  {
   "cell_type": "code",
   "execution_count": 53,
   "metadata": {},
   "outputs": [],
   "source": [
    "checkpointer = ModelCheckpoint(filepath='custom_model_checkpoint.hdf5', verbose=1, save_best_only=True)"
   ]
  },
  {
   "cell_type": "code",
   "execution_count": 54,
   "metadata": {},
   "outputs": [
    {
     "name": "stdout",
     "output_type": "stream",
     "text": [
      "WARNING:tensorflow:From /usr/local/lib/python3.5/dist-packages/tensorflow_core/python/ops/nn_impl.py:183: where (from tensorflow.python.ops.array_ops) is deprecated and will be removed in a future version.\n",
      "Instructions for updating:\n",
      "Use tf.where in 2.0, which has the same broadcast rule as np.where\n",
      "Train on 4771 samples, validate on 2045 samples\n",
      "Epoch 1/50\n",
      " - 17s - loss: 0.3003 - binary_accuracy: 0.8818 - val_loss: 0.2671 - val_binary_accuracy: 0.9589\n",
      "\n",
      "Epoch 00001: val_loss improved from inf to 0.26711, saving model to custom_model_checkpoint.hdf5\n",
      "Epoch 2/50\n",
      " - 16s - loss: 0.1652 - binary_accuracy: 0.9363 - val_loss: 0.1517 - val_binary_accuracy: 0.9565\n",
      "\n",
      "Epoch 00002: val_loss improved from 0.26711 to 0.15170, saving model to custom_model_checkpoint.hdf5\n",
      "Epoch 3/50\n",
      " - 16s - loss: 0.1111 - binary_accuracy: 0.9652 - val_loss: 0.2503 - val_binary_accuracy: 0.8782\n",
      "\n",
      "Epoch 00003: val_loss did not improve from 0.15170\n",
      "Epoch 4/50\n",
      " - 16s - loss: 0.1046 - binary_accuracy: 0.9667 - val_loss: 0.4412 - val_binary_accuracy: 0.8254\n",
      "\n",
      "Epoch 00004: val_loss did not improve from 0.15170\n",
      "Epoch 5/50\n",
      " - 16s - loss: 0.0771 - binary_accuracy: 0.9740 - val_loss: 0.3319 - val_binary_accuracy: 0.8709\n",
      "\n",
      "Epoch 00005: val_loss did not improve from 0.15170\n",
      "Epoch 6/50\n",
      " - 16s - loss: 0.0560 - binary_accuracy: 0.9830 - val_loss: 0.4601 - val_binary_accuracy: 0.7819\n",
      "\n",
      "Epoch 00006: val_loss did not improve from 0.15170\n",
      "Epoch 7/50\n",
      " - 16s - loss: 0.0573 - binary_accuracy: 0.9847 - val_loss: 0.3896 - val_binary_accuracy: 0.8792\n",
      "\n",
      "Epoch 00007: val_loss did not improve from 0.15170\n",
      "Epoch 8/50\n",
      " - 16s - loss: 0.0566 - binary_accuracy: 0.9868 - val_loss: 0.2338 - val_binary_accuracy: 0.9276\n",
      "\n",
      "Epoch 00008: val_loss did not improve from 0.15170\n",
      "Epoch 9/50\n",
      " - 16s - loss: 0.0387 - binary_accuracy: 0.9895 - val_loss: 0.3352 - val_binary_accuracy: 0.9178\n",
      "\n",
      "Epoch 00009: val_loss did not improve from 0.15170\n",
      "Epoch 10/50\n",
      " - 16s - loss: 0.0320 - binary_accuracy: 0.9916 - val_loss: 0.6453 - val_binary_accuracy: 0.8856\n",
      "\n",
      "Epoch 00010: val_loss did not improve from 0.15170\n",
      "Epoch 11/50\n",
      " - 15s - loss: 0.0480 - binary_accuracy: 0.9872 - val_loss: 0.2782 - val_binary_accuracy: 0.9071\n",
      "\n",
      "Epoch 00011: val_loss did not improve from 0.15170\n",
      "Epoch 12/50\n",
      " - 15s - loss: 0.0401 - binary_accuracy: 0.9912 - val_loss: 0.2386 - val_binary_accuracy: 0.8910\n",
      "\n",
      "Epoch 00012: val_loss did not improve from 0.15170\n",
      "Epoch 13/50\n",
      " - 16s - loss: 0.0331 - binary_accuracy: 0.9920 - val_loss: 0.5841 - val_binary_accuracy: 0.8954\n",
      "\n",
      "Epoch 00013: val_loss did not improve from 0.15170\n",
      "Epoch 14/50\n",
      " - 16s - loss: 0.0507 - binary_accuracy: 0.9870 - val_loss: 0.2624 - val_binary_accuracy: 0.9012\n",
      "\n",
      "Epoch 00014: val_loss did not improve from 0.15170\n",
      "Epoch 15/50\n",
      " - 17s - loss: 0.0395 - binary_accuracy: 0.9874 - val_loss: 0.5538 - val_binary_accuracy: 0.8929\n",
      "\n",
      "Epoch 00015: val_loss did not improve from 0.15170\n",
      "Epoch 16/50\n",
      " - 16s - loss: 0.0330 - binary_accuracy: 0.9922 - val_loss: 0.4625 - val_binary_accuracy: 0.8978\n",
      "\n",
      "Epoch 00016: val_loss did not improve from 0.15170\n",
      "Epoch 17/50\n",
      " - 16s - loss: 0.0226 - binary_accuracy: 0.9946 - val_loss: 0.4253 - val_binary_accuracy: 0.9159\n",
      "\n",
      "Epoch 00017: val_loss did not improve from 0.15170\n",
      "Epoch 18/50\n",
      " - 15s - loss: 0.0355 - binary_accuracy: 0.9897 - val_loss: 0.3928 - val_binary_accuracy: 0.9164\n",
      "\n",
      "Epoch 00018: val_loss did not improve from 0.15170\n",
      "Epoch 19/50\n",
      " - 16s - loss: 0.0290 - binary_accuracy: 0.9929 - val_loss: 0.8806 - val_binary_accuracy: 0.8797\n",
      "\n",
      "Epoch 00019: val_loss did not improve from 0.15170\n",
      "Epoch 20/50\n",
      " - 17s - loss: 0.0296 - binary_accuracy: 0.9916 - val_loss: 0.1652 - val_binary_accuracy: 0.9355\n",
      "\n",
      "Epoch 00020: val_loss did not improve from 0.15170\n",
      "Epoch 21/50\n",
      " - 17s - loss: 0.0283 - binary_accuracy: 0.9931 - val_loss: 0.6231 - val_binary_accuracy: 0.9076\n",
      "\n",
      "Epoch 00021: val_loss did not improve from 0.15170\n",
      "Epoch 22/50\n",
      " - 16s - loss: 0.0184 - binary_accuracy: 0.9960 - val_loss: 0.8462 - val_binary_accuracy: 0.9086\n",
      "\n",
      "Epoch 00022: val_loss did not improve from 0.15170\n",
      "Epoch 23/50\n",
      " - 16s - loss: 0.0297 - binary_accuracy: 0.9933 - val_loss: 0.3855 - val_binary_accuracy: 0.9218\n",
      "\n",
      "Epoch 00023: val_loss did not improve from 0.15170\n",
      "Epoch 24/50\n",
      " - 16s - loss: 0.0212 - binary_accuracy: 0.9956 - val_loss: 0.6866 - val_binary_accuracy: 0.9051\n",
      "\n",
      "Epoch 00024: val_loss did not improve from 0.15170\n",
      "Epoch 25/50\n",
      " - 16s - loss: 0.0176 - binary_accuracy: 0.9964 - val_loss: 0.7459 - val_binary_accuracy: 0.8949\n",
      "\n",
      "Epoch 00025: val_loss did not improve from 0.15170\n",
      "Epoch 26/50\n",
      " - 16s - loss: 0.0149 - binary_accuracy: 0.9971 - val_loss: 1.0502 - val_binary_accuracy: 0.8949\n",
      "\n",
      "Epoch 00026: val_loss did not improve from 0.15170\n",
      "Epoch 27/50\n",
      " - 16s - loss: 0.0324 - binary_accuracy: 0.9920 - val_loss: 0.3597 - val_binary_accuracy: 0.9535\n",
      "\n",
      "Epoch 00027: val_loss did not improve from 0.15170\n",
      "Epoch 28/50\n",
      " - 16s - loss: 0.0315 - binary_accuracy: 0.9925 - val_loss: 0.3963 - val_binary_accuracy: 0.9213\n",
      "\n",
      "Epoch 00028: val_loss did not improve from 0.15170\n",
      "Epoch 29/50\n",
      " - 16s - loss: 0.0275 - binary_accuracy: 0.9933 - val_loss: 0.3459 - val_binary_accuracy: 0.9359\n",
      "\n",
      "Epoch 00029: val_loss did not improve from 0.15170\n",
      "Epoch 30/50\n",
      " - 16s - loss: 0.0354 - binary_accuracy: 0.9918 - val_loss: 0.3958 - val_binary_accuracy: 0.9267\n",
      "\n",
      "Epoch 00030: val_loss did not improve from 0.15170\n",
      "Epoch 31/50\n",
      " - 16s - loss: 0.0318 - binary_accuracy: 0.9929 - val_loss: 1.0731 - val_binary_accuracy: 0.9105\n",
      "\n",
      "Epoch 00031: val_loss did not improve from 0.15170\n",
      "Epoch 32/50\n",
      " - 15s - loss: 0.0232 - binary_accuracy: 0.9956 - val_loss: 1.3129 - val_binary_accuracy: 0.8597\n",
      "\n",
      "Epoch 00032: val_loss did not improve from 0.15170\n",
      "Epoch 33/50\n",
      " - 16s - loss: 0.0462 - binary_accuracy: 0.9908 - val_loss: 0.3829 - val_binary_accuracy: 0.9452\n",
      "\n",
      "Epoch 00033: val_loss did not improve from 0.15170\n",
      "Epoch 34/50\n",
      " - 16s - loss: 0.0307 - binary_accuracy: 0.9950 - val_loss: 0.2476 - val_binary_accuracy: 0.9658\n",
      "\n",
      "Epoch 00034: val_loss did not improve from 0.15170\n",
      "Epoch 35/50\n",
      " - 16s - loss: 0.0257 - binary_accuracy: 0.9935 - val_loss: 0.4420 - val_binary_accuracy: 0.9335\n",
      "\n",
      "Epoch 00035: val_loss did not improve from 0.15170\n",
      "Epoch 36/50\n",
      " - 15s - loss: 0.0234 - binary_accuracy: 0.9946 - val_loss: 0.5151 - val_binary_accuracy: 0.9012\n",
      "\n",
      "Epoch 00036: val_loss did not improve from 0.15170\n",
      "Epoch 37/50\n",
      " - 15s - loss: 0.0133 - binary_accuracy: 0.9979 - val_loss: 0.9333 - val_binary_accuracy: 0.9271\n",
      "\n",
      "Epoch 00037: val_loss did not improve from 0.15170\n",
      "Epoch 38/50\n",
      " - 16s - loss: 0.0306 - binary_accuracy: 0.9925 - val_loss: 3.3199 - val_binary_accuracy: 0.8215\n",
      "\n",
      "Epoch 00038: val_loss did not improve from 0.15170\n",
      "Epoch 39/50\n",
      " - 16s - loss: 0.0298 - binary_accuracy: 0.9918 - val_loss: 0.6857 - val_binary_accuracy: 0.9042\n",
      "\n",
      "Epoch 00039: val_loss did not improve from 0.15170\n",
      "Epoch 40/50\n",
      " - 16s - loss: 0.0210 - binary_accuracy: 0.9956 - val_loss: 0.9265 - val_binary_accuracy: 0.9139\n",
      "\n",
      "Epoch 00040: val_loss did not improve from 0.15170\n",
      "Epoch 41/50\n",
      " - 15s - loss: 0.0131 - binary_accuracy: 0.9979 - val_loss: 1.8296 - val_binary_accuracy: 0.8880\n",
      "\n",
      "Epoch 00041: val_loss did not improve from 0.15170\n",
      "Epoch 42/50\n",
      " - 16s - loss: 0.0194 - binary_accuracy: 0.9958 - val_loss: 0.6583 - val_binary_accuracy: 0.9169\n",
      "\n",
      "Epoch 00042: val_loss did not improve from 0.15170\n",
      "Epoch 43/50\n",
      " - 16s - loss: 0.0222 - binary_accuracy: 0.9943 - val_loss: 1.7102 - val_binary_accuracy: 0.8929\n",
      "\n",
      "Epoch 00043: val_loss did not improve from 0.15170\n",
      "Epoch 44/50\n",
      " - 15s - loss: 0.0274 - binary_accuracy: 0.9941 - val_loss: 1.3002 - val_binary_accuracy: 0.9046\n",
      "\n",
      "Epoch 00044: val_loss did not improve from 0.15170\n",
      "Epoch 45/50\n",
      " - 15s - loss: 0.0317 - binary_accuracy: 0.9927 - val_loss: 0.8425 - val_binary_accuracy: 0.8905\n",
      "\n",
      "Epoch 00045: val_loss did not improve from 0.15170\n",
      "Epoch 46/50\n",
      " - 16s - loss: 0.0212 - binary_accuracy: 0.9950 - val_loss: 1.2453 - val_binary_accuracy: 0.8939\n",
      "\n",
      "Epoch 00046: val_loss did not improve from 0.15170\n",
      "Epoch 47/50\n",
      " - 16s - loss: 0.0188 - binary_accuracy: 0.9960 - val_loss: 0.9345 - val_binary_accuracy: 0.9242\n",
      "\n",
      "Epoch 00047: val_loss did not improve from 0.15170\n",
      "Epoch 48/50\n",
      " - 16s - loss: 0.0119 - binary_accuracy: 0.9977 - val_loss: 1.5697 - val_binary_accuracy: 0.9017\n",
      "\n",
      "Epoch 00048: val_loss did not improve from 0.15170\n",
      "Epoch 49/50\n",
      " - 15s - loss: 0.0153 - binary_accuracy: 0.9966 - val_loss: 4.4395 - val_binary_accuracy: 0.8186\n",
      "\n",
      "Epoch 00049: val_loss did not improve from 0.15170\n",
      "Epoch 50/50\n",
      " - 16s - loss: 0.0132 - binary_accuracy: 0.9966 - val_loss: 1.5880 - val_binary_accuracy: 0.9164\n",
      "\n",
      "Epoch 00050: val_loss did not improve from 0.15170\n"
     ]
    }
   ],
   "source": [
    "model.compile(optimizer='adam', loss='binary_crossentropy', metrics=['binary_accuracy'])\n",
    "\n",
    "history = model.fit(train_data, train_labels, epochs=50, batch_size=32,\n",
    "          validation_split=0.3,\n",
    "          verbose=2,\n",
    "          callbacks=[checkpointer], shuffle=True)"
   ]
  },
  {
   "cell_type": "markdown",
   "metadata": {},
   "source": [
    "**Getting the predictions on test data.\n",
    "The model predicts 0 for a hot dog image and 1 for not hot dog iamge.**"
   ]
  },
  {
   "cell_type": "code",
   "execution_count": 56,
   "metadata": {},
   "outputs": [
    {
     "name": "stdout",
     "output_type": "stream",
     "text": [
      "1696/1696 [==============================] - 2s 1ms/step\n"
     ]
    },
    {
     "data": {
      "text/plain": [
       "1696"
      ]
     },
     "execution_count": 56,
     "metadata": {},
     "output_type": "execute_result"
    }
   ],
   "source": [
    "predictions = model.predict_classes(test_data, batch_size=32, verbose=1)\n",
    "len(predictions)"
   ]
  },
  {
   "cell_type": "markdown",
   "metadata": {},
   "source": [
    "**Saving the model architecture into JSON file**"
   ]
  },
  {
   "cell_type": "code",
   "execution_count": 57,
   "metadata": {},
   "outputs": [],
   "source": [
    "model_json = model.to_json()\n",
    "with open(\"custom_model.json\", \"w\") as json_file:\n",
    "    json_file.write(model_json)"
   ]
  },
  {
   "cell_type": "markdown",
   "metadata": {},
   "source": [
    "**Calculating the confusion matrix and calculating the metrics from it**"
   ]
  },
  {
   "cell_type": "code",
   "execution_count": 58,
   "metadata": {},
   "outputs": [
    {
     "name": "stdout",
     "output_type": "stream",
     "text": [
      "[[879  23]\n",
      " [ 72 722]]\n"
     ]
    }
   ],
   "source": [
    "from sklearn.metrics import confusion_matrix\n",
    "conf_mat = confusion_matrix(test_labels, predictions)\n",
    "print(conf_mat)"
   ]
  },
  {
   "cell_type": "code",
   "execution_count": 59,
   "metadata": {},
   "outputs": [
    {
     "name": "stdout",
     "output_type": "stream",
     "text": [
      "for not hotdog images\n",
      "precision: 0.9093198992443325\n",
      "recall: 0.9242902208201893\n",
      "f1_score: 0.9167439482054793\n"
     ]
    }
   ],
   "source": [
    "#metrics for not hod dog images\n",
    "precision_nhd = conf_mat[1][1]/(conf_mat[1][1]+conf_mat[1][0])\n",
    "recall_nhd = conf_mat[0][0]/(conf_mat[0][0]+conf_mat[1][0])\n",
    "f1_score_nhd = 2*(precision_nhd*recall_nhd)/(precision_nhd+recall_nhd)\n",
    "print('for not hotdog images')\n",
    "print('precision: {}\\nrecall: {}\\nf1_score: {}'.format(precision_nhd, recall_nhd, f1_score_nhd))"
   ]
  },
  {
   "cell_type": "code",
   "execution_count": 60,
   "metadata": {},
   "outputs": [
    {
     "name": "stdout",
     "output_type": "stream",
     "text": [
      "for hot dog images:\n",
      "precision: 0.9745011086474501\n",
      "recall: 0.9691275167785235\n",
      "f1_score: 0.9167439482054793\n"
     ]
    }
   ],
   "source": [
    "#metrics for hot dog images\n",
    "precision_hd = conf_mat[0][0]/(conf_mat[0][0]+conf_mat[0][1])\n",
    "recall_hd = conf_mat[1][1]/(conf_mat[1][1]+conf_mat[0][1])\n",
    "f1_score_hd = 2*(precision_nhd*recall_nhd)/(precision_nhd+recall_nhd)\n",
    "print('for hot dog images:')\n",
    "print('precision: {}\\nrecall: {}\\nf1_score: {}'.format(precision_hd, recall_hd, f1_score_hd))"
   ]
  },
  {
   "cell_type": "code",
   "execution_count": 61,
   "metadata": {},
   "outputs": [
    {
     "name": "stdout",
     "output_type": "stream",
     "text": [
      "overall test accuracy: 0.9439858490566038\n"
     ]
    }
   ],
   "source": [
    "test_accuracy = (conf_mat[0][0]+conf_mat[1][1])/(conf_mat[0][0]+conf_mat[0][1]+conf_mat[1][0]+conf_mat[1][1])\n",
    "print('overall test accuracy: {}'.format(test_accuracy))"
   ]
  },
  {
   "cell_type": "markdown",
   "metadata": {},
   "source": [
    "**Function to run inference.\n",
    "All the images for inference must be placed in inference/images_infer directory**"
   ]
  },
  {
   "cell_type": "code",
   "execution_count": 2,
   "metadata": {},
   "outputs": [],
   "source": [
    "def inference(path_to_directory):\n",
    "    datagen = ImageDataGenerator(rescale=1. / 255)\n",
    "    test_it = datagen.flow_from_directory(path_to_directory, batch_size=32, \n",
    "                                            target_size=(300, 300),class_mode='binary', shuffle=False)\n",
    "    pre_tr_model_test = InceptionV3(weights='imagenet', include_top=False, input_shape=(300, 300, 3))\n",
    "    test_im_features = pre_tr_model_test.predict_generator(test_it, verbose=1)\n",
    "    with open('custom_model.json', 'r') as json_file:\n",
    "        loaded_model = model_from_json(json_file.read())\n",
    "    loaded_model.load_weights('custom_model_checkpoint.hdf5')\n",
    "    predictions = loaded_model.predict_classes(test_im_features, batch_size=32, verbose=1)\n",
    "    return predictions"
   ]
  },
  {
   "cell_type": "code",
   "execution_count": 3,
   "metadata": {},
   "outputs": [
    {
     "name": "stdout",
     "output_type": "stream",
     "text": [
      "Found 4 images belonging to 1 classes.\n",
      "WARNING:tensorflow:From C:\\anaconda\\lib\\site-packages\\tensorflow\\python\\ops\\resource_variable_ops.py:435: colocate_with (from tensorflow.python.framework.ops) is deprecated and will be removed in a future version.\n",
      "Instructions for updating:\n",
      "Colocations handled automatically by placer.\n",
      "1/1 [==============================] - 32s 32s/step\n",
      "4/4 [==============================] - 17s 4s/step\n",
      "name: best-hot-dog-fp.jpg, prediction: hotdog\n",
      "\n",
      "name: dog.jpeg, prediction: not hotdog\n",
      "\n",
      "name: images.jpeg, prediction: hotdog\n",
      "\n",
      "name: plane.jpeg, prediction: not hotdog\n",
      "\n"
     ]
    }
   ],
   "source": [
    "#call the inference function and pass the path as argument\n",
    "inference_predictions = inference('inference/')\n",
    "inference_labels = []\n",
    "for i in inference_predictions:\n",
    "    if i[0] == 0:\n",
    "        inference_labels.append('hotdog')\n",
    "    else:\n",
    "        inference_labels.append('not hotdog')\n",
    "images_list = os.listdir('inference/images_infer')\n",
    "for i in range(len(images_list)):\n",
    "    print('name: {}, prediction: {}\\n'.format(images_list[i], inference_labels[i]))"
   ]
  },
  {
   "cell_type": "markdown",
   "metadata": {},
   "source": [
    "Failures:\n",
    "Initially, I tried a custom CNN model without InceptionV3 transfer learning and it resulted in poor accuracy of 73%.\n",
    "\n",
    "Scope:\n",
    "Can also implement localization(i.e. where in the image is the hot dog) and also would try training with batch size=1 to see how the training time vs accuracy trade off is(batch_size=1 trains faster as it doesn't perform gradient descent and update weights for every batch.)"
   ]
  },
  {
   "cell_type": "code",
   "execution_count": null,
   "metadata": {},
   "outputs": [],
   "source": []
  }
 ],
 "metadata": {
  "kernelspec": {
   "display_name": "Python 3",
   "language": "python",
   "name": "python3"
  },
  "language_info": {
   "codemirror_mode": {
    "name": "ipython",
    "version": 3
   },
   "file_extension": ".py",
   "mimetype": "text/x-python",
   "name": "python",
   "nbconvert_exporter": "python",
   "pygments_lexer": "ipython3",
   "version": "3.7.4"
  }
 },
 "nbformat": 4,
 "nbformat_minor": 4
}
